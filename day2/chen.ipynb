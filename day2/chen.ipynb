{
 "cells": [
  {
   "cell_type": "code",
   "execution_count": null,
   "id": "ddfeecdc-c0bb-4064-8d00-91af10f87b9c",
   "metadata": {
    "jupyter": {
     "is_executing": true
    }
   },
   "outputs": [],
   "source": [
    "import numpy"
   ]
  },
  {
   "cell_type": "code",
   "execution_count": 1,
   "id": "8b433b12-b07a-4c49-a3a5-0bd112085f99",
   "metadata": {},
   "outputs": [
    {
     "name": "stdout",
     "output_type": "stream",
     "text": [
      "一维数组: [1 2 3 4]\n",
      "二维数组:\n",
      " [[1 2]\n",
      " [3 4]]\n",
      "全零数组:\n",
      " [[0. 0. 0.]\n",
      " [0. 0. 0.]]\n",
      "全一数组:\n",
      " [[1. 1. 1.]\n",
      " [1. 1. 1.]]\n",
      "等间隔数组: [0 2 4 6 8]\n",
      "均匀分布数组: [0.   0.25 0.5  0.75 1.  ]\n"
     ]
    }
   ],
   "source": [
    "import numpy as np\n",
    "\n",
    "# 创建一维数组\n",
    "array_1d = np.array([1, 2, 3, 4])\n",
    "print(\"一维数组:\", array_1d)\n",
    "\n",
    "# 创建二维数组\n",
    "array_2d = np.array([[1, 2],\n",
    "                     [3, 4]])\n",
    "print(\"二维数组:\\n\", array_2d)\n",
    "\n",
    "# 创建全零数组\n",
    "zeros_array = np.zeros((2, 3))\n",
    "print(\"全零数组:\\n\", zeros_array)\n",
    "\n",
    "# 创建全一数组\n",
    "ones_array = np.ones((2, 3))\n",
    "print(\"全一数组:\\n\", ones_array)\n",
    "\n",
    "# 创建等间隔数组\n",
    "range_array = np.arange(0, 10, 2)\n",
    "print(\"等间隔数组:\", range_array)\n",
    "\n",
    "# 创建均匀分布数组\n",
    "linspace_array = np.linspace(0, 1, 5)\n",
    "print(\"均匀分布数组:\", linspace_array)\n"
   ]
  },
  {
   "cell_type": "code",
   "execution_count": 2,
   "id": "0d7f0565-dc01-4a5c-bade-e6b151695cb9",
   "metadata": {},
   "outputs": [
    {
     "name": "stdout",
     "output_type": "stream",
     "text": [
      "(2, 2, 3)\n"
     ]
    }
   ],
   "source": [
    "# 方法1：使用np.array()直接创建\n",
    "arr_3d = np.array([\n",
    "    [[1, 2, 3], \n",
    "     [4, 5, 6]],  # 第一个二维平面\n",
    "    [[7, 8, 9], \n",
    "     [10, 11, 12]] # 第二个二维平面\n",
    "])\n",
    "print(arr_3d.shape)  # 输出 (2, 2, 3) 表示2层2行3列"
   ]
  },
  {
   "cell_type": "code",
   "execution_count": 5,
   "id": "db1c2d09-ff5f-4903-9d2b-2732b3bebfb8",
   "metadata": {},
   "outputs": [
    {
     "name": "stdout",
     "output_type": "stream",
     "text": [
      "数组形状: (2, 2, 3)\n",
      "数组维度: 3\n",
      "数组元素总数: 12\n",
      "数组数据类型: int64\n"
     ]
    }
   ],
   "source": [
    "import numpy as np\n",
    "\n",
    "array = np.array([\n",
    "    [[1, 2, 3], \n",
    "     [4, 5, 6]],  # 第一个二维平面\n",
    "    [[7, 8, 9], \n",
    "     [10, 11, 12]] # 第二个二维平面\n",
    "])\n",
    "\n",
    "print(\"数组形状:\", array.shape)\n",
    "print(\"数组维度:\", array.ndim)\n",
    "print(\"数组元素总数:\", array.size)\n",
    "print(\"数组数据类型:\", array.dtype)"
   ]
  },
  {
   "cell_type": "code",
   "execution_count": 13,
   "id": "8d46200d-a878-47dd-8398-605b9d7650f9",
   "metadata": {},
   "outputs": [
    {
     "name": "stdout",
     "output_type": "stream",
     "text": [
      "前两行，前两列:\n",
      " [[ 5  7]\n",
      " [12 14]]\n"
     ]
    }
   ],
   "source": [
    "array = np.array([[1, 2, 3, 4], \n",
    "                  [4, 5, 6, 7], \n",
    "                  [7, 8, 9, 10],\n",
    "                  [11, 12, 13, 14]])\n",
    "\n",
    "# 访问单个元素\n",
    "# print(\"第一行第二列元素:\", array[0, 1])\n",
    "\n",
    "# # 访问整行\n",
    "# print(\"第一行:\", array[0, :])\n",
    "\n",
    "# # 访问整列\n",
    "# print(\"第二列:\", array[:, 1])\n",
    "\n",
    "# 切片\n",
    "print(\"前两行，前两列:\\n\", array[1::2, 1::2])"
   ]
  },
  {
   "cell_type": "code",
   "execution_count": 15,
   "id": "9d66b2bd-d977-4492-8021-6b33cf87f0fa",
   "metadata": {},
   "outputs": [
    {
     "name": "stdout",
     "output_type": "stream",
     "text": [
      "逐元素加法: [5 7 9]\n",
      "逐元素乘法: [ 4 10 18]\n",
      "点积: 32\n",
      "矩阵乘法:\n",
      " [[17]\n",
      " [39]]\n"
     ]
    }
   ],
   "source": [
    "import numpy as np\n",
    "\n",
    "a = np.array([1, 2, 3])\n",
    "b = np.array([4, 5, 6])\n",
    "\n",
    "# 逐元素加法\n",
    "print(\"逐元素加法:\", a + b)\n",
    "\n",
    "# 逐元素乘法\n",
    "print(\"逐元素乘法:\", a * b)\n",
    "\n",
    "# 矩阵乘法\n",
    "print(\"点积:\", np.dot(a, b))\n",
    "\n",
    "# 数组与orini\n",
    "# # 矩阵点积\n",
    "a = np.array([[1, 2], \n",
    "              [3, 4]])\n",
    "b = np.array([[5], [6]])\n",
    "\n",
    "print(\"矩阵乘法:\\n\", a @ b)\n"
   ]
  },
  {
   "cell_type": "code",
   "execution_count": 16,
   "id": "238f5c5d-e065-4a8f-ab5c-58eb5ac9cfa9",
   "metadata": {},
   "outputs": [
    {
     "name": "stdout",
     "output_type": "stream",
     "text": [
      "[False False False  True  True]\n",
      "大于 20 的元素: [25 30]\n",
      "小于 20 的元素置 0: [ 0  0 20 25 30]\n",
      "大于 15 且小于 30 的元素: [20 25]\n"
     ]
    }
   ],
   "source": [
    "\n",
    "array = np.array([10, 15, 20, 25, 30])\n",
    "\n",
    "\n",
    "\n",
    "# 筛选大于 20 的元素\n",
    "mask = array > 20\n",
    "print(mask)\n",
    "print(\"大于 20 的元素:\", array[mask])\n",
    "\n",
    "# 结合条件赋值\n",
    "array[array < 20] = 0\n",
    "print(\"小于 20 的元素置 0:\", array)\n",
    "\n",
    "# 多条件筛选\n",
    "array = np.array([10, 15, 20, 25, 30])\n",
    "mask = (array > 15) & (array < 30)\n",
    "print(\"大于 15 且小于 30 的元素:\", array[mask])\n"
   ]
  },
  {
   "cell_type": "code",
   "execution_count": 17,
   "id": "04667b6b-8ea8-4e73-b94b-7e82030e2f1b",
   "metadata": {},
   "outputs": [
    {
     "name": "stdout",
     "output_type": "stream",
     "text": [
      "水平分割为两个数组:\n",
      " [array([[1, 2],\n",
      "       [5, 6]]), array([[3, 4],\n",
      "       [7, 8]])]\n"
     ]
    }
   ],
   "source": [
    "import numpy as np\n",
    "\n",
    "\n",
    "\n",
    "# 数组分割\n",
    "array = np.array([[1, 2, 3, 4],\n",
    "                  [5, 6, 7, 8]])\n",
    "split_arrays = np.split(array, 2, axis=1)\n",
    "print(\"水平分割为两个数组:\\n\", split_arrays)\n"
   ]
  },
  {
   "cell_type": "code",
   "execution_count": null,
   "id": "2a9aa343-aecf-4c52-b039-c3be4215f946",
   "metadata": {},
   "outputs": [],
   "source": []
  }
 ],
 "metadata": {
  "kernelspec": {
   "display_name": "Python 3 (ipykernel)",
   "language": "python",
   "name": "python3"
  },
  "language_info": {
   "codemirror_mode": {
    "name": "ipython",
    "version": 3
   },
   "file_extension": ".py",
   "mimetype": "text/x-python",
   "name": "python",
   "nbconvert_exporter": "python",
   "pygments_lexer": "ipython3",
   "version": "3.12.4"
  }
 },
 "nbformat": 4,
 "nbformat_minor": 5
}
